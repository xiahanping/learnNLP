{
 "cells": [
  {
   "cell_type": "markdown",
   "metadata": {},
   "source": [
    "# Pandas"
   ]
  },
  {
   "cell_type": "code",
   "execution_count": null,
   "metadata": {
    "collapsed": true
   },
   "outputs": [],
   "source": [
    "import numpy as np\n",
    "import pandas as pd\n",
    "import matplotlib.pyplot as plt"
   ]
  },
  {
   "cell_type": "code",
   "execution_count": 3,
   "metadata": {},
   "outputs": [],
   "source": [
    "pd.options.display.max_rows = 10"
   ]
  },
  {
   "cell_type": "code",
   "execution_count": null,
   "metadata": {
    "collapsed": true
   },
   "outputs": [],
   "source": []
  },
  {
   "cell_type": "markdown",
   "metadata": {},
   "source": [
    "## Dataframe创建"
   ]
  },
  {
   "cell_type": "markdown",
   "metadata": {},
   "source": [
    "### 从字典创建"
   ]
  },
  {
   "cell_type": "code",
   "execution_count": 5,
   "metadata": {},
   "outputs": [
    {
     "name": "stdout",
     "output_type": "stream",
     "text": [
      "  category  score\n",
      "0       悬疑    8.9\n",
      "1       动作    8.2\n",
      "2       爱情    9.3\n"
     ]
    }
   ],
   "source": [
    "temp_dict = {\n",
    "    'score': [8.9, 8.2, 9.3],\n",
    "    'category': ['悬疑', '动作', '爱情']\n",
    "}\n",
    "temp_pd = pd.DataFrame(temp_dict)\n",
    "print(temp_pd)"
   ]
  },
  {
   "cell_type": "code",
   "execution_count": 6,
   "metadata": {},
   "outputs": [
    {
     "data": {
      "text/plain": [
       "Index(['category', 'score'], dtype='object')"
      ]
     },
     "execution_count": 6,
     "metadata": {},
     "output_type": "execute_result"
    }
   ],
   "source": [
    "temp_pd.columns"
   ]
  },
  {
   "cell_type": "code",
   "execution_count": 7,
   "metadata": {
    "collapsed": true
   },
   "outputs": [],
   "source": [
    "temp_pd.columns = [\"目录\", \"评分\"]"
   ]
  },
  {
   "cell_type": "code",
   "execution_count": 8,
   "metadata": {},
   "outputs": [
    {
     "data": {
      "text/html": [
       "<div>\n",
       "<style scoped>\n",
       "    .dataframe tbody tr th:only-of-type {\n",
       "        vertical-align: middle;\n",
       "    }\n",
       "\n",
       "    .dataframe tbody tr th {\n",
       "        vertical-align: top;\n",
       "    }\n",
       "\n",
       "    .dataframe thead th {\n",
       "        text-align: right;\n",
       "    }\n",
       "</style>\n",
       "<table border=\"1\" class=\"dataframe\">\n",
       "  <thead>\n",
       "    <tr style=\"text-align: right;\">\n",
       "      <th></th>\n",
       "      <th>目录</th>\n",
       "      <th>评分</th>\n",
       "    </tr>\n",
       "  </thead>\n",
       "  <tbody>\n",
       "    <tr>\n",
       "      <th>0</th>\n",
       "      <td>悬疑</td>\n",
       "      <td>8.9</td>\n",
       "    </tr>\n",
       "    <tr>\n",
       "      <th>1</th>\n",
       "      <td>动作</td>\n",
       "      <td>8.2</td>\n",
       "    </tr>\n",
       "    <tr>\n",
       "      <th>2</th>\n",
       "      <td>爱情</td>\n",
       "      <td>9.3</td>\n",
       "    </tr>\n",
       "  </tbody>\n",
       "</table>\n",
       "</div>"
      ],
      "text/plain": [
       "   目录   评分\n",
       "0  悬疑  8.9\n",
       "1  动作  8.2\n",
       "2  爱情  9.3"
      ]
     },
     "execution_count": 8,
     "metadata": {},
     "output_type": "execute_result"
    }
   ],
   "source": [
    "temp_pd"
   ]
  },
  {
   "cell_type": "code",
   "execution_count": 12,
   "metadata": {},
   "outputs": [
    {
     "ename": "TypeError",
     "evalue": "Index does not support mutable operations",
     "output_type": "error",
     "traceback": [
      "\u001b[0;31m---------------------------------------------------------------------------\u001b[0m",
      "\u001b[0;31mTypeError\u001b[0m                                 Traceback (most recent call last)",
      "\u001b[0;32m<ipython-input-12-5eb3fcc9b24b>\u001b[0m in \u001b[0;36m<module>\u001b[0;34m()\u001b[0m\n\u001b[1;32m      1\u001b[0m \u001b[1;31m# 不能直接这样修改列名\u001b[0m\u001b[1;33m\u001b[0m\u001b[1;33m\u001b[0m\u001b[0m\n\u001b[0;32m----> 2\u001b[0;31m \u001b[0mtemp_pd\u001b[0m\u001b[1;33m.\u001b[0m\u001b[0mcolumns\u001b[0m\u001b[1;33m[\u001b[0m\u001b[1;36m0\u001b[0m\u001b[1;33m]\u001b[0m \u001b[1;33m=\u001b[0m \u001b[1;34m\"电影名\"\u001b[0m\u001b[1;33m\u001b[0m\u001b[0m\n\u001b[0m",
      "\u001b[0;32mE:\\setup\\Anaconda3-4.2.0-py35\\lib\\site-packages\\pandas\\core\\indexes\\base.py\u001b[0m in \u001b[0;36m__setitem__\u001b[0;34m(self, key, value)\u001b[0m\n\u001b[1;32m   2063\u001b[0m \u001b[1;33m\u001b[0m\u001b[0m\n\u001b[1;32m   2064\u001b[0m     \u001b[1;32mdef\u001b[0m \u001b[0m__setitem__\u001b[0m\u001b[1;33m(\u001b[0m\u001b[0mself\u001b[0m\u001b[1;33m,\u001b[0m \u001b[0mkey\u001b[0m\u001b[1;33m,\u001b[0m \u001b[0mvalue\u001b[0m\u001b[1;33m)\u001b[0m\u001b[1;33m:\u001b[0m\u001b[1;33m\u001b[0m\u001b[0m\n\u001b[0;32m-> 2065\u001b[0;31m         \u001b[1;32mraise\u001b[0m \u001b[0mTypeError\u001b[0m\u001b[1;33m(\u001b[0m\u001b[1;34m\"Index does not support mutable operations\"\u001b[0m\u001b[1;33m)\u001b[0m\u001b[1;33m\u001b[0m\u001b[0m\n\u001b[0m\u001b[1;32m   2066\u001b[0m \u001b[1;33m\u001b[0m\u001b[0m\n\u001b[1;32m   2067\u001b[0m     \u001b[1;32mdef\u001b[0m \u001b[0m__getitem__\u001b[0m\u001b[1;33m(\u001b[0m\u001b[0mself\u001b[0m\u001b[1;33m,\u001b[0m \u001b[0mkey\u001b[0m\u001b[1;33m)\u001b[0m\u001b[1;33m:\u001b[0m\u001b[1;33m\u001b[0m\u001b[0m\n",
      "\u001b[0;31mTypeError\u001b[0m: Index does not support mutable operations"
     ]
    }
   ],
   "source": [
    "# 不能直接这样修改列名\n",
    "temp_pd.columns[0] = \"电影名\""
   ]
  },
  {
   "cell_type": "code",
   "execution_count": 13,
   "metadata": {
    "collapsed": true
   },
   "outputs": [],
   "source": [
    "temp_pd.columns.values[0] = \"电影名\""
   ]
  },
  {
   "cell_type": "code",
   "execution_count": 14,
   "metadata": {},
   "outputs": [
    {
     "data": {
      "text/html": [
       "<div>\n",
       "<style scoped>\n",
       "    .dataframe tbody tr th:only-of-type {\n",
       "        vertical-align: middle;\n",
       "    }\n",
       "\n",
       "    .dataframe tbody tr th {\n",
       "        vertical-align: top;\n",
       "    }\n",
       "\n",
       "    .dataframe thead th {\n",
       "        text-align: right;\n",
       "    }\n",
       "</style>\n",
       "<table border=\"1\" class=\"dataframe\">\n",
       "  <thead>\n",
       "    <tr style=\"text-align: right;\">\n",
       "      <th></th>\n",
       "      <th>电影名</th>\n",
       "      <th>评分</th>\n",
       "    </tr>\n",
       "  </thead>\n",
       "  <tbody>\n",
       "    <tr>\n",
       "      <th>0</th>\n",
       "      <td>悬疑</td>\n",
       "      <td>8.9</td>\n",
       "    </tr>\n",
       "    <tr>\n",
       "      <th>1</th>\n",
       "      <td>动作</td>\n",
       "      <td>8.2</td>\n",
       "    </tr>\n",
       "    <tr>\n",
       "      <th>2</th>\n",
       "      <td>爱情</td>\n",
       "      <td>9.3</td>\n",
       "    </tr>\n",
       "  </tbody>\n",
       "</table>\n",
       "</div>"
      ],
      "text/plain": [
       "  电影名   评分\n",
       "0  悬疑  8.9\n",
       "1  动作  8.2\n",
       "2  爱情  9.3"
      ]
     },
     "execution_count": 14,
     "metadata": {},
     "output_type": "execute_result"
    }
   ],
   "source": [
    "temp_pd"
   ]
  },
  {
   "cell_type": "code",
   "execution_count": 15,
   "metadata": {},
   "outputs": [
    {
     "data": {
      "text/plain": [
       "(pandas.core.indexes.base.Index, numpy.ndarray)"
      ]
     },
     "execution_count": 15,
     "metadata": {},
     "output_type": "execute_result"
    }
   ],
   "source": [
    "type(temp_pd.columns), type(temp_pd.columns.values)"
   ]
  },
  {
   "cell_type": "code",
   "execution_count": null,
   "metadata": {
    "collapsed": true
   },
   "outputs": [],
   "source": []
  },
  {
   "cell_type": "code",
   "execution_count": null,
   "metadata": {
    "collapsed": true
   },
   "outputs": [],
   "source": []
  },
  {
   "cell_type": "code",
   "execution_count": 16,
   "metadata": {},
   "outputs": [
    {
     "data": {
      "text/plain": [
       "array([8.9, 8.2, 9.3])"
      ]
     },
     "execution_count": 16,
     "metadata": {},
     "output_type": "execute_result"
    }
   ],
   "source": [
    "temp_pd['评分'].values"
   ]
  },
  {
   "cell_type": "code",
   "execution_count": 17,
   "metadata": {},
   "outputs": [
    {
     "data": {
      "text/plain": [
       "array([8.9, 8.2, 9.3])"
      ]
     },
     "execution_count": 17,
     "metadata": {},
     "output_type": "execute_result"
    }
   ],
   "source": [
    "temp_pd.评分.values # recommended, support auto complete"
   ]
  },
  {
   "cell_type": "code",
   "execution_count": 18,
   "metadata": {},
   "outputs": [
    {
     "data": {
      "text/plain": [
       "0    8.9\n",
       "1    8.2\n",
       "2    9.3\n",
       "Name: 评分, dtype: float64"
      ]
     },
     "execution_count": 18,
     "metadata": {},
     "output_type": "execute_result"
    }
   ],
   "source": [
    "temp_pd.评分"
   ]
  },
  {
   "cell_type": "code",
   "execution_count": 19,
   "metadata": {},
   "outputs": [
    {
     "data": {
      "text/plain": [
       "array([['悬疑', 8.9],\n",
       "       ['动作', 8.2],\n",
       "       ['爱情', 9.3]], dtype=object)"
      ]
     },
     "execution_count": 19,
     "metadata": {},
     "output_type": "execute_result"
    }
   ],
   "source": [
    "temp_pd.values"
   ]
  },
  {
   "cell_type": "code",
   "execution_count": null,
   "metadata": {
    "collapsed": true
   },
   "outputs": [],
   "source": []
  },
  {
   "cell_type": "code",
   "execution_count": null,
   "metadata": {
    "collapsed": true
   },
   "outputs": [],
   "source": []
  },
  {
   "cell_type": "markdown",
   "metadata": {},
   "source": [
    "## 从列表创建"
   ]
  },
  {
   "cell_type": "code",
   "execution_count": 20,
   "metadata": {
    "collapsed": true
   },
   "outputs": [],
   "source": [
    "pos_pd = pd.DataFrame(np.random.rand(1000,3), columns=[\"x\", \"y\", \"z\"])"
   ]
  },
  {
   "cell_type": "code",
   "execution_count": 21,
   "metadata": {},
   "outputs": [
    {
     "data": {
      "text/html": [
       "<div>\n",
       "<style scoped>\n",
       "    .dataframe tbody tr th:only-of-type {\n",
       "        vertical-align: middle;\n",
       "    }\n",
       "\n",
       "    .dataframe tbody tr th {\n",
       "        vertical-align: top;\n",
       "    }\n",
       "\n",
       "    .dataframe thead th {\n",
       "        text-align: right;\n",
       "    }\n",
       "</style>\n",
       "<table border=\"1\" class=\"dataframe\">\n",
       "  <thead>\n",
       "    <tr style=\"text-align: right;\">\n",
       "      <th></th>\n",
       "      <th>x</th>\n",
       "      <th>y</th>\n",
       "      <th>z</th>\n",
       "    </tr>\n",
       "  </thead>\n",
       "  <tbody>\n",
       "    <tr>\n",
       "      <th>0</th>\n",
       "      <td>0.508912</td>\n",
       "      <td>0.389847</td>\n",
       "      <td>0.346418</td>\n",
       "    </tr>\n",
       "    <tr>\n",
       "      <th>1</th>\n",
       "      <td>0.863006</td>\n",
       "      <td>0.483965</td>\n",
       "      <td>0.739297</td>\n",
       "    </tr>\n",
       "    <tr>\n",
       "      <th>2</th>\n",
       "      <td>0.621245</td>\n",
       "      <td>0.137760</td>\n",
       "      <td>0.632489</td>\n",
       "    </tr>\n",
       "    <tr>\n",
       "      <th>3</th>\n",
       "      <td>0.532062</td>\n",
       "      <td>0.263008</td>\n",
       "      <td>0.223380</td>\n",
       "    </tr>\n",
       "    <tr>\n",
       "      <th>4</th>\n",
       "      <td>0.260328</td>\n",
       "      <td>0.270906</td>\n",
       "      <td>0.928473</td>\n",
       "    </tr>\n",
       "  </tbody>\n",
       "</table>\n",
       "</div>"
      ],
      "text/plain": [
       "          x         y         z\n",
       "0  0.508912  0.389847  0.346418\n",
       "1  0.863006  0.483965  0.739297\n",
       "2  0.621245  0.137760  0.632489\n",
       "3  0.532062  0.263008  0.223380\n",
       "4  0.260328  0.270906  0.928473"
      ]
     },
     "execution_count": 21,
     "metadata": {},
     "output_type": "execute_result"
    }
   ],
   "source": [
    "pos_pd.head()"
   ]
  },
  {
   "cell_type": "code",
   "execution_count": null,
   "metadata": {
    "collapsed": true
   },
   "outputs": [],
   "source": []
  },
  {
   "cell_type": "markdown",
   "metadata": {},
   "source": [
    "## 从文件读取"
   ]
  },
  {
   "cell_type": "code",
   "execution_count": 22,
   "metadata": {
    "collapsed": true
   },
   "outputs": [],
   "source": [
    "movie_pd = pd.read_excel(\"豆瓣电影.xlsx\")"
   ]
  },
  {
   "cell_type": "code",
   "execution_count": 23,
   "metadata": {},
   "outputs": [
    {
     "data": {
      "text/html": [
       "<div>\n",
       "<style scoped>\n",
       "    .dataframe tbody tr th:only-of-type {\n",
       "        vertical-align: middle;\n",
       "    }\n",
       "\n",
       "    .dataframe tbody tr th {\n",
       "        vertical-align: top;\n",
       "    }\n",
       "\n",
       "    .dataframe thead th {\n",
       "        text-align: right;\n",
       "    }\n",
       "</style>\n",
       "<table border=\"1\" class=\"dataframe\">\n",
       "  <thead>\n",
       "    <tr style=\"text-align: right;\">\n",
       "      <th></th>\n",
       "      <th>电影名</th>\n",
       "      <th>评分</th>\n",
       "      <th>评价人数</th>\n",
       "      <th>链接</th>\n",
       "      <th>时间</th>\n",
       "      <th>演员</th>\n",
       "    </tr>\n",
       "  </thead>\n",
       "  <tbody>\n",
       "    <tr>\n",
       "      <th>0</th>\n",
       "      <td>\"ExtremeChampionshipWrestling\"</td>\n",
       "      <td>(评价人数不足)</td>\n",
       "      <td>NaN</td>\n",
       "      <td>https://movie.douban.com/subject/1963120/</td>\n",
       "      <td>2006-06-13 00:00:00</td>\n",
       "      <td>[]</td>\n",
       "    </tr>\n",
       "    <tr>\n",
       "      <th>1</th>\n",
       "      <td>\"TheXFiles\"SE6.15Monday</td>\n",
       "      <td>9.4</td>\n",
       "      <td>52.0</td>\n",
       "      <td>https://movie.douban.com/subject/3158584/</td>\n",
       "      <td>1999-02-28 00:00:00</td>\n",
       "      <td>['大卫·杜楚尼', '吉莲·安德森', '美国', 'Kim Manners', 'Arg...</td>\n",
       "    </tr>\n",
       "    <tr>\n",
       "      <th>2</th>\n",
       "      <td>\"WWEMondayNightRAW\"Episodedated11Decembe</td>\n",
       "      <td>(评价人数不足)</td>\n",
       "      <td>NaN</td>\n",
       "      <td>https://movie.douban.com/subject/1957739/</td>\n",
       "      <td>2006-12-11 00:00:00</td>\n",
       "      <td>[]</td>\n",
       "    </tr>\n",
       "    <tr>\n",
       "      <th>3</th>\n",
       "      <td>\"WWEMondayNightRAW\"Episodedated11June200</td>\n",
       "      <td>(评价人数不足)</td>\n",
       "      <td>NaN</td>\n",
       "      <td>https://movie.douban.com/subject/2136118/</td>\n",
       "      <td>2007-06-11 00:00:00</td>\n",
       "      <td>['Kevin Dunn']</td>\n",
       "    </tr>\n",
       "    <tr>\n",
       "      <th>4</th>\n",
       "      <td>\"WWEMondayNightRAW\"Episodedated13Novembe</td>\n",
       "      <td>(评价人数不足)</td>\n",
       "      <td>NaN</td>\n",
       "      <td>https://movie.douban.com/subject/1957743/</td>\n",
       "      <td>2006-11-13 00:00:00</td>\n",
       "      <td>[]</td>\n",
       "    </tr>\n",
       "  </tbody>\n",
       "</table>\n",
       "</div>"
      ],
      "text/plain": [
       "                                        电影名        评分  评价人数  \\\n",
       "0            \"ExtremeChampionshipWrestling\"  (评价人数不足)   NaN   \n",
       "1                   \"TheXFiles\"SE6.15Monday       9.4  52.0   \n",
       "2  \"WWEMondayNightRAW\"Episodedated11Decembe  (评价人数不足)   NaN   \n",
       "3  \"WWEMondayNightRAW\"Episodedated11June200  (评价人数不足)   NaN   \n",
       "4  \"WWEMondayNightRAW\"Episodedated13Novembe  (评价人数不足)   NaN   \n",
       "\n",
       "                                          链接                   时间  \\\n",
       "0  https://movie.douban.com/subject/1963120/  2006-06-13 00:00:00   \n",
       "1  https://movie.douban.com/subject/3158584/  1999-02-28 00:00:00   \n",
       "2  https://movie.douban.com/subject/1957739/  2006-12-11 00:00:00   \n",
       "3  https://movie.douban.com/subject/2136118/  2007-06-11 00:00:00   \n",
       "4  https://movie.douban.com/subject/1957743/  2006-11-13 00:00:00   \n",
       "\n",
       "                                                  演员  \n",
       "0                                                 []  \n",
       "1  ['大卫·杜楚尼', '吉莲·安德森', '美国', 'Kim Manners', 'Arg...  \n",
       "2                                                 []  \n",
       "3                                     ['Kevin Dunn']  \n",
       "4                                                 []  "
      ]
     },
     "execution_count": 23,
     "metadata": {},
     "output_type": "execute_result"
    }
   ],
   "source": [
    "movie_pd.head()"
   ]
  },
  {
   "cell_type": "code",
   "execution_count": 24,
   "metadata": {},
   "outputs": [
    {
     "data": {
      "text/html": [
       "<div>\n",
       "<style scoped>\n",
       "    .dataframe tbody tr th:only-of-type {\n",
       "        vertical-align: middle;\n",
       "    }\n",
       "\n",
       "    .dataframe tbody tr th {\n",
       "        vertical-align: top;\n",
       "    }\n",
       "\n",
       "    .dataframe thead th {\n",
       "        text-align: right;\n",
       "    }\n",
       "</style>\n",
       "<table border=\"1\" class=\"dataframe\">\n",
       "  <thead>\n",
       "    <tr style=\"text-align: right;\">\n",
       "      <th></th>\n",
       "      <th>电影名</th>\n",
       "      <th>评分</th>\n",
       "      <th>评价人数</th>\n",
       "      <th>链接</th>\n",
       "      <th>时间</th>\n",
       "      <th>演员</th>\n",
       "    </tr>\n",
       "  </thead>\n",
       "  <tbody>\n",
       "    <tr>\n",
       "      <th>200</th>\n",
       "      <td>2B青年的不醉人生</td>\n",
       "      <td>6.3</td>\n",
       "      <td>3969.0</td>\n",
       "      <td>https://movie.douban.com/subject/20491427/</td>\n",
       "      <td>2012-12-28 00:00:00</td>\n",
       "      <td>['黄渤', '中国大陆', '黄渤', '18分钟', '喜剧']</td>\n",
       "    </tr>\n",
       "    <tr>\n",
       "      <th>201</th>\n",
       "      <td>2PMSHOW</td>\n",
       "      <td>8.8</td>\n",
       "      <td>137.0</td>\n",
       "      <td>https://movie.douban.com/subject/25957143/</td>\n",
       "      <td>2011-07-09 00:00:00</td>\n",
       "      <td>['玉泽演', '黄灿盛', '张祐荣', 'Jun. K', '尼坤']</td>\n",
       "    </tr>\n",
       "    <tr>\n",
       "      <th>202</th>\n",
       "      <td>2人三足</td>\n",
       "      <td>6.8</td>\n",
       "      <td>1165.0</td>\n",
       "      <td>https://movie.douban.com/subject/1306657/</td>\n",
       "      <td>2002-01-17(香港)</td>\n",
       "      <td>['车婉婉', '张家辉', '朱茵', '罗兰', '吴浣仪']</td>\n",
       "    </tr>\n",
       "    <tr>\n",
       "      <th>203</th>\n",
       "      <td>0.03</td>\n",
       "      <td>6.8</td>\n",
       "      <td>139.0</td>\n",
       "      <td>https://movie.douban.com/subject/26705642/</td>\n",
       "      <td>2016-11-25 00:00:00</td>\n",
       "      <td>['Bianca Comparato', '朱奥·米格尔', '巴西', '恺撒·查隆', ...</td>\n",
       "    </tr>\n",
       "    <tr>\n",
       "      <th>204</th>\n",
       "      <td>3-4X10月</td>\n",
       "      <td>7.3</td>\n",
       "      <td>1749.0</td>\n",
       "      <td>https://movie.douban.com/subject/1297290/</td>\n",
       "      <td>1990-09-15 00:00:00</td>\n",
       "      <td>['石田百合子', '柳忧怜', '北野武', '邓肯', '布施绘里']</td>\n",
       "    </tr>\n",
       "  </tbody>\n",
       "</table>\n",
       "</div>"
      ],
      "text/plain": [
       "           电影名   评分    评价人数                                          链接  \\\n",
       "200  2B青年的不醉人生  6.3  3969.0  https://movie.douban.com/subject/20491427/   \n",
       "201    2PMSHOW  8.8   137.0  https://movie.douban.com/subject/25957143/   \n",
       "202       2人三足  6.8  1165.0   https://movie.douban.com/subject/1306657/   \n",
       "203       0.03  6.8   139.0  https://movie.douban.com/subject/26705642/   \n",
       "204    3-4X10月  7.3  1749.0   https://movie.douban.com/subject/1297290/   \n",
       "\n",
       "                      时间                                                 演员  \n",
       "200  2012-12-28 00:00:00                 ['黄渤', '中国大陆', '黄渤', '18分钟', '喜剧']  \n",
       "201  2011-07-09 00:00:00              ['玉泽演', '黄灿盛', '张祐荣', 'Jun. K', '尼坤']  \n",
       "202       2002-01-17(香港)                  ['车婉婉', '张家辉', '朱茵', '罗兰', '吴浣仪']  \n",
       "203  2016-11-25 00:00:00  ['Bianca Comparato', '朱奥·米格尔', '巴西', '恺撒·查隆', ...  \n",
       "204  1990-09-15 00:00:00              ['石田百合子', '柳忧怜', '北野武', '邓肯', '布施绘里']  "
      ]
     },
     "execution_count": 24,
     "metadata": {},
     "output_type": "execute_result"
    }
   ],
   "source": [
    "movie_pd[200:205]"
   ]
  },
  {
   "cell_type": "code",
   "execution_count": 25,
   "metadata": {},
   "outputs": [
    {
     "data": {
      "text/html": [
       "<div>\n",
       "<style scoped>\n",
       "    .dataframe tbody tr th:only-of-type {\n",
       "        vertical-align: middle;\n",
       "    }\n",
       "\n",
       "    .dataframe tbody tr th {\n",
       "        vertical-align: top;\n",
       "    }\n",
       "\n",
       "    .dataframe thead th {\n",
       "        text-align: right;\n",
       "    }\n",
       "</style>\n",
       "<table border=\"1\" class=\"dataframe\">\n",
       "  <thead>\n",
       "    <tr style=\"text-align: right;\">\n",
       "      <th></th>\n",
       "      <th>电影名</th>\n",
       "      <th>评分</th>\n",
       "      <th>评价人数</th>\n",
       "      <th>链接</th>\n",
       "      <th>时间</th>\n",
       "      <th>演员</th>\n",
       "    </tr>\n",
       "  </thead>\n",
       "  <tbody>\n",
       "    <tr>\n",
       "      <th>count</th>\n",
       "      <td>87081</td>\n",
       "      <td>87073</td>\n",
       "      <td>76243.00000</td>\n",
       "      <td>87081</td>\n",
       "      <td>87075</td>\n",
       "      <td>87075</td>\n",
       "    </tr>\n",
       "    <tr>\n",
       "      <th>unique</th>\n",
       "      <td>40810</td>\n",
       "      <td>83</td>\n",
       "      <td>NaN</td>\n",
       "      <td>41815</td>\n",
       "      <td>26922</td>\n",
       "      <td>40803</td>\n",
       "    </tr>\n",
       "    <tr>\n",
       "      <th>top</th>\n",
       "      <td>哈尔的移动城堡</td>\n",
       "      <td>(评价人数不足)</td>\n",
       "      <td>NaN</td>\n",
       "      <td>https://movie.douban.com/subject/3254235/</td>\n",
       "      <td>美国</td>\n",
       "      <td>['美国', 'Kevin Dunn', '英语']</td>\n",
       "    </tr>\n",
       "    <tr>\n",
       "      <th>freq</th>\n",
       "      <td>6</td>\n",
       "      <td>9330</td>\n",
       "      <td>NaN</td>\n",
       "      <td>6</td>\n",
       "      <td>1296</td>\n",
       "      <td>281</td>\n",
       "    </tr>\n",
       "    <tr>\n",
       "      <th>mean</th>\n",
       "      <td>NaN</td>\n",
       "      <td>NaN</td>\n",
       "      <td>15041.19893</td>\n",
       "      <td>NaN</td>\n",
       "      <td>NaN</td>\n",
       "      <td>NaN</td>\n",
       "    </tr>\n",
       "    <tr>\n",
       "      <th>...</th>\n",
       "      <td>...</td>\n",
       "      <td>...</td>\n",
       "      <td>...</td>\n",
       "      <td>...</td>\n",
       "      <td>...</td>\n",
       "      <td>...</td>\n",
       "    </tr>\n",
       "    <tr>\n",
       "      <th>min</th>\n",
       "      <td>NaN</td>\n",
       "      <td>NaN</td>\n",
       "      <td>20.00000</td>\n",
       "      <td>NaN</td>\n",
       "      <td>NaN</td>\n",
       "      <td>NaN</td>\n",
       "    </tr>\n",
       "    <tr>\n",
       "      <th>25%</th>\n",
       "      <td>NaN</td>\n",
       "      <td>NaN</td>\n",
       "      <td>278.00000</td>\n",
       "      <td>NaN</td>\n",
       "      <td>NaN</td>\n",
       "      <td>NaN</td>\n",
       "    </tr>\n",
       "    <tr>\n",
       "      <th>50%</th>\n",
       "      <td>NaN</td>\n",
       "      <td>NaN</td>\n",
       "      <td>1442.00000</td>\n",
       "      <td>NaN</td>\n",
       "      <td>NaN</td>\n",
       "      <td>NaN</td>\n",
       "    </tr>\n",
       "    <tr>\n",
       "      <th>75%</th>\n",
       "      <td>NaN</td>\n",
       "      <td>NaN</td>\n",
       "      <td>8151.00000</td>\n",
       "      <td>NaN</td>\n",
       "      <td>NaN</td>\n",
       "      <td>NaN</td>\n",
       "    </tr>\n",
       "    <tr>\n",
       "      <th>max</th>\n",
       "      <td>NaN</td>\n",
       "      <td>NaN</td>\n",
       "      <td>762311.00000</td>\n",
       "      <td>NaN</td>\n",
       "      <td>NaN</td>\n",
       "      <td>NaN</td>\n",
       "    </tr>\n",
       "  </tbody>\n",
       "</table>\n",
       "<p>11 rows × 6 columns</p>\n",
       "</div>"
      ],
      "text/plain": [
       "            电影名        评分          评价人数  \\\n",
       "count     87081     87073   76243.00000   \n",
       "unique    40810        83           NaN   \n",
       "top     哈尔的移动城堡  (评价人数不足)           NaN   \n",
       "freq          6      9330           NaN   \n",
       "mean        NaN       NaN   15041.19893   \n",
       "...         ...       ...           ...   \n",
       "min         NaN       NaN      20.00000   \n",
       "25%         NaN       NaN     278.00000   \n",
       "50%         NaN       NaN    1442.00000   \n",
       "75%         NaN       NaN    8151.00000   \n",
       "max         NaN       NaN  762311.00000   \n",
       "\n",
       "                                               链接     时间  \\\n",
       "count                                       87081  87075   \n",
       "unique                                      41815  26922   \n",
       "top     https://movie.douban.com/subject/3254235/     美国   \n",
       "freq                                            6   1296   \n",
       "mean                                          NaN    NaN   \n",
       "...                                           ...    ...   \n",
       "min                                           NaN    NaN   \n",
       "25%                                           NaN    NaN   \n",
       "50%                                           NaN    NaN   \n",
       "75%                                           NaN    NaN   \n",
       "max                                           NaN    NaN   \n",
       "\n",
       "                                演员  \n",
       "count                        87075  \n",
       "unique                       40803  \n",
       "top     ['美国', 'Kevin Dunn', '英语']  \n",
       "freq                           281  \n",
       "mean                           NaN  \n",
       "...                            ...  \n",
       "min                            NaN  \n",
       "25%                            NaN  \n",
       "50%                            NaN  \n",
       "75%                            NaN  \n",
       "max                            NaN  \n",
       "\n",
       "[11 rows x 6 columns]"
      ]
     },
     "execution_count": 25,
     "metadata": {},
     "output_type": "execute_result"
    }
   ],
   "source": [
    "movie_pd.describe(include='all')"
   ]
  },
  {
   "cell_type": "code",
   "execution_count": 26,
   "metadata": {},
   "outputs": [
    {
     "data": {
      "text/html": [
       "<div>\n",
       "<style scoped>\n",
       "    .dataframe tbody tr th:only-of-type {\n",
       "        vertical-align: middle;\n",
       "    }\n",
       "\n",
       "    .dataframe tbody tr th {\n",
       "        vertical-align: top;\n",
       "    }\n",
       "\n",
       "    .dataframe thead th {\n",
       "        text-align: right;\n",
       "    }\n",
       "</style>\n",
       "<table border=\"1\" class=\"dataframe\">\n",
       "  <thead>\n",
       "    <tr style=\"text-align: right;\">\n",
       "      <th></th>\n",
       "      <th>评价人数</th>\n",
       "    </tr>\n",
       "  </thead>\n",
       "  <tbody>\n",
       "    <tr>\n",
       "      <th>count</th>\n",
       "      <td>76243.000000</td>\n",
       "    </tr>\n",
       "    <tr>\n",
       "      <th>mean</th>\n",
       "      <td>15041.198930</td>\n",
       "    </tr>\n",
       "    <tr>\n",
       "      <th>std</th>\n",
       "      <td>44238.241727</td>\n",
       "    </tr>\n",
       "    <tr>\n",
       "      <th>min</th>\n",
       "      <td>20.000000</td>\n",
       "    </tr>\n",
       "    <tr>\n",
       "      <th>25%</th>\n",
       "      <td>278.000000</td>\n",
       "    </tr>\n",
       "    <tr>\n",
       "      <th>50%</th>\n",
       "      <td>1442.000000</td>\n",
       "    </tr>\n",
       "    <tr>\n",
       "      <th>75%</th>\n",
       "      <td>8151.000000</td>\n",
       "    </tr>\n",
       "    <tr>\n",
       "      <th>max</th>\n",
       "      <td>762311.000000</td>\n",
       "    </tr>\n",
       "  </tbody>\n",
       "</table>\n",
       "</div>"
      ],
      "text/plain": [
       "                评价人数\n",
       "count   76243.000000\n",
       "mean    15041.198930\n",
       "std     44238.241727\n",
       "min        20.000000\n",
       "25%       278.000000\n",
       "50%      1442.000000\n",
       "75%      8151.000000\n",
       "max    762311.000000"
      ]
     },
     "execution_count": 26,
     "metadata": {},
     "output_type": "execute_result"
    }
   ],
   "source": [
    "movie_pd.describe(include=[np.number])"
   ]
  },
  {
   "cell_type": "markdown",
   "metadata": {},
   "source": [
    "## 数据筛选\n",
    "## 按行"
   ]
  },
  {
   "cell_type": "code",
   "execution_count": 27,
   "metadata": {},
   "outputs": [
    {
     "data": {
      "text/plain": [
       "电影名                \"ExtremeChampionshipWrestling\"\n",
       "评分                                       (评价人数不足)\n",
       "评价人数                                          NaN\n",
       "链接      https://movie.douban.com/subject/1963120/\n",
       "时间                            2006-06-13 00:00:00\n",
       "演员                                             []\n",
       "Name: 0, dtype: object"
      ]
     },
     "execution_count": 27,
     "metadata": {},
     "output_type": "execute_result"
    }
   ],
   "source": [
    "movie_pd.loc[0]"
   ]
  },
  {
   "cell_type": "code",
   "execution_count": 28,
   "metadata": {},
   "outputs": [
    {
     "data": {
      "text/html": [
       "<div>\n",
       "<style scoped>\n",
       "    .dataframe tbody tr th:only-of-type {\n",
       "        vertical-align: middle;\n",
       "    }\n",
       "\n",
       "    .dataframe tbody tr th {\n",
       "        vertical-align: top;\n",
       "    }\n",
       "\n",
       "    .dataframe thead th {\n",
       "        text-align: right;\n",
       "    }\n",
       "</style>\n",
       "<table border=\"1\" class=\"dataframe\">\n",
       "  <thead>\n",
       "    <tr style=\"text-align: right;\">\n",
       "      <th></th>\n",
       "      <th>电影名</th>\n",
       "      <th>评分</th>\n",
       "      <th>评价人数</th>\n",
       "      <th>链接</th>\n",
       "      <th>时间</th>\n",
       "      <th>演员</th>\n",
       "    </tr>\n",
       "  </thead>\n",
       "  <tbody>\n",
       "    <tr>\n",
       "      <th>0</th>\n",
       "      <td>\"ExtremeChampionshipWrestling\"</td>\n",
       "      <td>(评价人数不足)</td>\n",
       "      <td>NaN</td>\n",
       "      <td>https://movie.douban.com/subject/1963120/</td>\n",
       "      <td>2006-06-13 00:00:00</td>\n",
       "      <td>[]</td>\n",
       "    </tr>\n",
       "    <tr>\n",
       "      <th>3</th>\n",
       "      <td>\"WWEMondayNightRAW\"Episodedated11June200</td>\n",
       "      <td>(评价人数不足)</td>\n",
       "      <td>NaN</td>\n",
       "      <td>https://movie.douban.com/subject/2136118/</td>\n",
       "      <td>2007-06-11 00:00:00</td>\n",
       "      <td>['Kevin Dunn']</td>\n",
       "    </tr>\n",
       "    <tr>\n",
       "      <th>6</th>\n",
       "      <td>\"WWEMondayNightRAW\"Episodedated18June200</td>\n",
       "      <td>(评价人数不足)</td>\n",
       "      <td>NaN</td>\n",
       "      <td>https://movie.douban.com/subject/2136121/</td>\n",
       "      <td>2007-06-18 00:00:00</td>\n",
       "      <td>['Kevin Dunn']</td>\n",
       "    </tr>\n",
       "    <tr>\n",
       "      <th>9</th>\n",
       "      <td>\"WWEMondayNightRAW\"Episodedated27Novembe</td>\n",
       "      <td>(评价人数不足)</td>\n",
       "      <td>NaN</td>\n",
       "      <td>https://movie.douban.com/subject/1957741/</td>\n",
       "      <td>2006-11-27 00:00:00</td>\n",
       "      <td>[]</td>\n",
       "    </tr>\n",
       "  </tbody>\n",
       "</table>\n",
       "</div>"
      ],
      "text/plain": [
       "                                        电影名        评分  评价人数  \\\n",
       "0            \"ExtremeChampionshipWrestling\"  (评价人数不足)   NaN   \n",
       "3  \"WWEMondayNightRAW\"Episodedated11June200  (评价人数不足)   NaN   \n",
       "6  \"WWEMondayNightRAW\"Episodedated18June200  (评价人数不足)   NaN   \n",
       "9  \"WWEMondayNightRAW\"Episodedated27Novembe  (评价人数不足)   NaN   \n",
       "\n",
       "                                          链接                   时间  \\\n",
       "0  https://movie.douban.com/subject/1963120/  2006-06-13 00:00:00   \n",
       "3  https://movie.douban.com/subject/2136118/  2007-06-11 00:00:00   \n",
       "6  https://movie.douban.com/subject/2136121/  2007-06-18 00:00:00   \n",
       "9  https://movie.douban.com/subject/1957741/  2006-11-27 00:00:00   \n",
       "\n",
       "               演员  \n",
       "0              []  \n",
       "3  ['Kevin Dunn']  \n",
       "6  ['Kevin Dunn']  \n",
       "9              []  "
      ]
     },
     "execution_count": 28,
     "metadata": {},
     "output_type": "execute_result"
    }
   ],
   "source": [
    "movie_pd.loc[0:10:3]"
   ]
  },
  {
   "cell_type": "code",
   "execution_count": 29,
   "metadata": {},
   "outputs": [
    {
     "data": {
      "text/html": [
       "<div>\n",
       "<style scoped>\n",
       "    .dataframe tbody tr th:only-of-type {\n",
       "        vertical-align: middle;\n",
       "    }\n",
       "\n",
       "    .dataframe tbody tr th {\n",
       "        vertical-align: top;\n",
       "    }\n",
       "\n",
       "    .dataframe thead th {\n",
       "        text-align: right;\n",
       "    }\n",
       "</style>\n",
       "<table border=\"1\" class=\"dataframe\">\n",
       "  <thead>\n",
       "    <tr style=\"text-align: right;\">\n",
       "      <th></th>\n",
       "      <th>电影名</th>\n",
       "      <th>评分</th>\n",
       "      <th>评价人数</th>\n",
       "      <th>链接</th>\n",
       "      <th>时间</th>\n",
       "      <th>演员</th>\n",
       "    </tr>\n",
       "  </thead>\n",
       "  <tbody>\n",
       "    <tr>\n",
       "      <th>1</th>\n",
       "      <td>\"TheXFiles\"SE6.15Monday</td>\n",
       "      <td>9.4</td>\n",
       "      <td>52.0</td>\n",
       "      <td>https://movie.douban.com/subject/3158584/</td>\n",
       "      <td>1999-02-28 00:00:00</td>\n",
       "      <td>['大卫·杜楚尼', '吉莲·安德森', '美国', 'Kim Manners', 'Arg...</td>\n",
       "    </tr>\n",
       "    <tr>\n",
       "      <th>100</th>\n",
       "      <td>17岁之风景</td>\n",
       "      <td>7.2</td>\n",
       "      <td>90.0</td>\n",
       "      <td>https://movie.douban.com/subject/1760143/</td>\n",
       "      <td>2006-04-04 00:00:00</td>\n",
       "      <td>['Tasuku Emoto', 'Mansaku Fuwa', 'Ichir Hariu'...</td>\n",
       "    </tr>\n",
       "    <tr>\n",
       "      <th>1000</th>\n",
       "      <td>NearEqual森山大道</td>\n",
       "      <td>8.3</td>\n",
       "      <td>599.0</td>\n",
       "      <td>https://movie.douban.com/subject/3922263/</td>\n",
       "      <td>森山大道</td>\n",
       "      <td>['荒木経惟', '西井一夫', '日本', '藤井謙二郎', '84分钟']</td>\n",
       "    </tr>\n",
       "  </tbody>\n",
       "</table>\n",
       "</div>"
      ],
      "text/plain": [
       "                          电影名   评分   评价人数  \\\n",
       "1     \"TheXFiles\"SE6.15Monday  9.4   52.0   \n",
       "100                    17岁之风景  7.2   90.0   \n",
       "1000            NearEqual森山大道  8.3  599.0   \n",
       "\n",
       "                                             链接                   时间  \\\n",
       "1     https://movie.douban.com/subject/3158584/  1999-02-28 00:00:00   \n",
       "100   https://movie.douban.com/subject/1760143/  2006-04-04 00:00:00   \n",
       "1000  https://movie.douban.com/subject/3922263/                 森山大道   \n",
       "\n",
       "                                                     演员  \n",
       "1     ['大卫·杜楚尼', '吉莲·安德森', '美国', 'Kim Manners', 'Arg...  \n",
       "100   ['Tasuku Emoto', 'Mansaku Fuwa', 'Ichir Hariu'...  \n",
       "1000            ['荒木経惟', '西井一夫', '日本', '藤井謙二郎', '84分钟']  "
      ]
     },
     "execution_count": 29,
     "metadata": {},
     "output_type": "execute_result"
    }
   ],
   "source": [
    "movie_pd.loc[[1, 100, 1000]]"
   ]
  },
  {
   "cell_type": "code",
   "execution_count": 30,
   "metadata": {},
   "outputs": [
    {
     "data": {
      "text/html": [
       "<div>\n",
       "<style scoped>\n",
       "    .dataframe tbody tr th:only-of-type {\n",
       "        vertical-align: middle;\n",
       "    }\n",
       "\n",
       "    .dataframe tbody tr th {\n",
       "        vertical-align: top;\n",
       "    }\n",
       "\n",
       "    .dataframe thead th {\n",
       "        text-align: right;\n",
       "    }\n",
       "</style>\n",
       "<table border=\"1\" class=\"dataframe\">\n",
       "  <thead>\n",
       "    <tr style=\"text-align: right;\">\n",
       "      <th></th>\n",
       "      <th>电影名</th>\n",
       "      <th>评分</th>\n",
       "      <th>评价人数</th>\n",
       "      <th>链接</th>\n",
       "      <th>时间</th>\n",
       "      <th>演员</th>\n",
       "    </tr>\n",
       "  </thead>\n",
       "  <tbody>\n",
       "    <tr>\n",
       "      <th>0</th>\n",
       "      <td>\"ExtremeChampionshipWrestling\"</td>\n",
       "      <td>(评价人数不足)</td>\n",
       "      <td>NaN</td>\n",
       "      <td>https://movie.douban.com/subject/1963120/</td>\n",
       "      <td>2006-06-13 00:00:00</td>\n",
       "      <td>[]</td>\n",
       "    </tr>\n",
       "    <tr>\n",
       "      <th>1</th>\n",
       "      <td>\"TheXFiles\"SE6.15Monday</td>\n",
       "      <td>9.4</td>\n",
       "      <td>52.0</td>\n",
       "      <td>https://movie.douban.com/subject/3158584/</td>\n",
       "      <td>1999-02-28 00:00:00</td>\n",
       "      <td>['大卫·杜楚尼', '吉莲·安德森', '美国', 'Kim Manners', 'Arg...</td>\n",
       "    </tr>\n",
       "  </tbody>\n",
       "</table>\n",
       "</div>"
      ],
      "text/plain": [
       "                              电影名        评分  评价人数  \\\n",
       "0  \"ExtremeChampionshipWrestling\"  (评价人数不足)   NaN   \n",
       "1         \"TheXFiles\"SE6.15Monday       9.4  52.0   \n",
       "\n",
       "                                          链接                   时间  \\\n",
       "0  https://movie.douban.com/subject/1963120/  2006-06-13 00:00:00   \n",
       "1  https://movie.douban.com/subject/3158584/  1999-02-28 00:00:00   \n",
       "\n",
       "                                                  演员  \n",
       "0                                                 []  \n",
       "1  ['大卫·杜楚尼', '吉莲·安德森', '美国', 'Kim Manners', 'Arg...  "
      ]
     },
     "execution_count": 30,
     "metadata": {},
     "output_type": "execute_result"
    }
   ],
   "source": [
    "movie_pd[0:2]"
   ]
  },
  {
   "cell_type": "markdown",
   "metadata": {},
   "source": [
    "## 按列"
   ]
  },
  {
   "cell_type": "code",
   "execution_count": 31,
   "metadata": {},
   "outputs": [
    {
     "data": {
      "text/plain": [
       "Index(['电影名', '评分', '评价人数', '链接', '时间', '演员'], dtype='object')"
      ]
     },
     "execution_count": 31,
     "metadata": {},
     "output_type": "execute_result"
    }
   ],
   "source": [
    "movie_pd.columns"
   ]
  },
  {
   "cell_type": "code",
   "execution_count": 32,
   "metadata": {},
   "outputs": [
    {
     "data": {
      "text/html": [
       "<div>\n",
       "<style scoped>\n",
       "    .dataframe tbody tr th:only-of-type {\n",
       "        vertical-align: middle;\n",
       "    }\n",
       "\n",
       "    .dataframe tbody tr th {\n",
       "        vertical-align: top;\n",
       "    }\n",
       "\n",
       "    .dataframe thead th {\n",
       "        text-align: right;\n",
       "    }\n",
       "</style>\n",
       "<table border=\"1\" class=\"dataframe\">\n",
       "  <thead>\n",
       "    <tr style=\"text-align: right;\">\n",
       "      <th></th>\n",
       "      <th>电影名</th>\n",
       "      <th>评分</th>\n",
       "    </tr>\n",
       "  </thead>\n",
       "  <tbody>\n",
       "    <tr>\n",
       "      <th>0</th>\n",
       "      <td>\"ExtremeChampionshipWrestling\"</td>\n",
       "      <td>(评价人数不足)</td>\n",
       "    </tr>\n",
       "    <tr>\n",
       "      <th>1</th>\n",
       "      <td>\"TheXFiles\"SE6.15Monday</td>\n",
       "      <td>9.4</td>\n",
       "    </tr>\n",
       "    <tr>\n",
       "      <th>2</th>\n",
       "      <td>\"WWEMondayNightRAW\"Episodedated11Decembe</td>\n",
       "      <td>(评价人数不足)</td>\n",
       "    </tr>\n",
       "    <tr>\n",
       "      <th>3</th>\n",
       "      <td>\"WWEMondayNightRAW\"Episodedated11June200</td>\n",
       "      <td>(评价人数不足)</td>\n",
       "    </tr>\n",
       "    <tr>\n",
       "      <th>4</th>\n",
       "      <td>\"WWEMondayNightRAW\"Episodedated13Novembe</td>\n",
       "      <td>(评价人数不足)</td>\n",
       "    </tr>\n",
       "  </tbody>\n",
       "</table>\n",
       "</div>"
      ],
      "text/plain": [
       "                                        电影名        评分\n",
       "0            \"ExtremeChampionshipWrestling\"  (评价人数不足)\n",
       "1                   \"TheXFiles\"SE6.15Monday       9.4\n",
       "2  \"WWEMondayNightRAW\"Episodedated11Decembe  (评价人数不足)\n",
       "3  \"WWEMondayNightRAW\"Episodedated11June200  (评价人数不足)\n",
       "4  \"WWEMondayNightRAW\"Episodedated13Novembe  (评价人数不足)"
      ]
     },
     "execution_count": 32,
     "metadata": {},
     "output_type": "execute_result"
    }
   ],
   "source": [
    "movie_pd[['电影名', '评分']].head()"
   ]
  },
  {
   "cell_type": "code",
   "execution_count": 33,
   "metadata": {},
   "outputs": [
    {
     "data": {
      "text/plain": [
       "0        (评价人数不足)\n",
       "1             9.4\n",
       "2        (评价人数不足)\n",
       "3        (评价人数不足)\n",
       "4        (评价人数不足)\n",
       "           ...   \n",
       "87076         5.9\n",
       "87077         5.7\n",
       "87078         7.5\n",
       "87079         8.2\n",
       "87080         5.7\n",
       "Name: 评分, Length: 87081, dtype: object"
      ]
     },
     "execution_count": 33,
     "metadata": {},
     "output_type": "execute_result"
    }
   ],
   "source": [
    "movie_pd.评分"
   ]
  },
  {
   "cell_type": "code",
   "execution_count": 34,
   "metadata": {},
   "outputs": [
    {
     "data": {
      "text/plain": [
       "(pandas.core.series.Series,\n",
       " pandas.core.series.Series,\n",
       " pandas.core.frame.DataFrame)"
      ]
     },
     "execution_count": 34,
     "metadata": {},
     "output_type": "execute_result"
    }
   ],
   "source": [
    "type(movie_pd.评分), type(movie_pd[\"评分\"]),type(movie_pd[[\"评分\"]])"
   ]
  },
  {
   "cell_type": "code",
   "execution_count": null,
   "metadata": {
    "collapsed": true
   },
   "outputs": [],
   "source": []
  }
 ],
 "metadata": {
  "anaconda-cloud": {},
  "kernelspec": {
   "display_name": "Python 3",
   "language": "python",
   "name": "python3"
  },
  "language_info": {
   "codemirror_mode": {
    "name": "ipython",
    "version": 3
   },
   "file_extension": ".py",
   "mimetype": "text/x-python",
   "name": "python",
   "nbconvert_exporter": "python",
   "pygments_lexer": "ipython3",
   "version": "3.7.3"
  }
 },
 "nbformat": 4,
 "nbformat_minor": 1
}
